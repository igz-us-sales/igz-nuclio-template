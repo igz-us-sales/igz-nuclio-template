{
 "cells": [
  {
   "cell_type": "markdown",
   "metadata": {},
   "source": [
    "### Import MLRun/Nuclio"
   ]
  },
  {
   "cell_type": "code",
   "execution_count": 1,
   "metadata": {},
   "outputs": [],
   "source": [
    "import nuclio\n",
    "from mlrun import code_to_function, new_function\n",
    "import os\n",
    "from os import path"
   ]
  },
  {
   "cell_type": "markdown",
   "metadata": {},
   "source": [
    "### Define Nuclio Function"
   ]
  },
  {
   "cell_type": "code",
   "execution_count": 2,
   "metadata": {},
   "outputs": [],
   "source": [
    "#nuclio: start-code"
   ]
  },
  {
   "cell_type": "code",
   "execution_count": 3,
   "metadata": {},
   "outputs": [],
   "source": [
    "def handler(context, event):\n",
    "    return \"Hello from Nuclio!\""
   ]
  },
  {
   "cell_type": "code",
   "execution_count": 4,
   "metadata": {},
   "outputs": [],
   "source": [
    "#nuclio: end-code"
   ]
  },
  {
   "cell_type": "markdown",
   "metadata": {},
   "source": [
    "### Build Custom Docker Image"
   ]
  },
  {
   "cell_type": "code",
   "execution_count": 5,
   "metadata": {},
   "outputs": [],
   "source": [
    "# image = f\"docker-registry.{os.getenv('IGZ_NAMESPACE_DOMAIN')}:80/custom-image\"\n",
    "image = \"mlrun/mlrun\""
   ]
  },
  {
   "cell_type": "code",
   "execution_count": 6,
   "metadata": {},
   "outputs": [],
   "source": [
    "# # Build Docker Image (only needs to be run once)\n",
    "# build_image = new_function(name=\"build-image\", kind=\"job\")\n",
    "# build_image.build_config(\n",
    "#     image=image, base_image=\"mlrun/mlrun\", commands=[\"pip install dash\"]\n",
    "# )\n",
    "# build_image.deploy(with_mlrun=False)"
   ]
  },
  {
   "cell_type": "markdown",
   "metadata": {},
   "source": [
    "### Define Function Specs"
   ]
  },
  {
   "cell_type": "code",
   "execution_count": 7,
   "metadata": {},
   "outputs": [],
   "source": [
    "fn = code_to_function(name='nuclio-fn', project=\"nuclio-template\", kind='nuclio')\n",
    "fn.spec.min_replicas = 1\n",
    "fn.spec.max_replicas = 1\n",
    "fn.spec.base_spec['spec']['build']['baseImage'] = image"
   ]
  },
  {
   "cell_type": "markdown",
   "metadata": {},
   "source": [
    "### Deploy Function"
   ]
  },
  {
   "cell_type": "code",
   "execution_count": 8,
   "metadata": {},
   "outputs": [
    {
     "name": "stdout",
     "output_type": "stream",
     "text": [
      "> 2021-01-15 22:47:51,041 [info] Starting remote function deploy\n",
      "2021-01-15 22:47:51  (info) Deploying function\n",
      "2021-01-15 22:47:51  (info) Building\n",
      "2021-01-15 22:47:51  (info) Staging files and preparing base images\n",
      "2021-01-15 22:47:51  (info) Building processor image\n",
      "2021-01-15 22:47:57  (info) Build complete\n",
      "2021-01-15 22:48:01  (info) Function deploy complete\n",
      "> 2021-01-15 22:48:01,893 [info] function deployed, address=3.17.244.7:30303\n"
     ]
    }
   ],
   "source": [
    "addr = fn.deploy()"
   ]
  },
  {
   "cell_type": "code",
   "execution_count": 9,
   "metadata": {},
   "outputs": [
    {
     "name": "stdout",
     "output_type": "stream",
     "text": [
      "Hello from Nuclio!"
     ]
    }
   ],
   "source": [
    "!curl $addr"
   ]
  },
  {
   "cell_type": "code",
   "execution_count": null,
   "metadata": {},
   "outputs": [],
   "source": []
  }
 ],
 "metadata": {
  "kernelspec": {
   "display_name": "Python [conda env:root] *",
   "language": "python",
   "name": "conda-root-py"
  },
  "language_info": {
   "codemirror_mode": {
    "name": "ipython",
    "version": 3
   },
   "file_extension": ".py",
   "mimetype": "text/x-python",
   "name": "python",
   "nbconvert_exporter": "python",
   "pygments_lexer": "ipython3",
   "version": "3.7.6"
  }
 },
 "nbformat": 4,
 "nbformat_minor": 4
}
