{
 "cells": [
  {
   "cell_type": "markdown",
   "metadata": {},
   "source": [
    "### Import MLRun/Nuclio"
   ]
  },
  {
   "cell_type": "code",
   "execution_count": 1,
   "metadata": {},
   "outputs": [],
   "source": [
    "import nuclio\n",
    "from mlrun import code_to_function, new_function\n",
    "import os\n",
    "from os import path\n",
    "import requests\n",
    "import json"
   ]
  },
  {
   "cell_type": "markdown",
   "metadata": {},
   "source": [
    "### Define Nuclio Function"
   ]
  },
  {
   "cell_type": "code",
   "execution_count": 2,
   "metadata": {},
   "outputs": [],
   "source": [
    "#nuclio: start-code"
   ]
  },
  {
   "cell_type": "code",
   "execution_count": 3,
   "metadata": {},
   "outputs": [],
   "source": [
    "import json\n",
    "import random\n",
    "\n",
    "def predict(context, data):\n",
    "    \"\"\"\n",
    "    Emulates model prediction.\n",
    "    \"\"\"\n",
    "    response = {\"model\" : context.model, \"pred\" : {}}\n",
    "    for i, image in enumerate(data['data']):\n",
    "        # pred = context.model.predict(d) -> Where you might perform model inferencing\n",
    "        pred = random.choice([\"cat\", \"dog\"])\n",
    "        response[\"pred\"][image] = pred\n",
    "    return context.Response(body=json.dumps(response))\n",
    "\n",
    "def load_model():\n",
    "    \"\"\"\n",
    "    Emulates loading model.\n",
    "    \"\"\"\n",
    "    return \"ML Model\"\n",
    "\n",
    "def init_context(context):\n",
    "    \"\"\"\n",
    "    Initializes context - automatically called by Nuclio.\n",
    "    \n",
    "    Code you only need to run once such as initializing a model.\n",
    "    \"\"\"\n",
    "    context.model = load_model()\n",
    "\n",
    "def handler(context, event):\n",
    "    \"\"\"\n",
    "    Main entrypoint into serverless function\n",
    "    \"\"\"\n",
    "    return predict(context, json.loads(event.body))"
   ]
  },
  {
   "cell_type": "code",
   "execution_count": 4,
   "metadata": {},
   "outputs": [],
   "source": [
    "#nuclio: end-code"
   ]
  },
  {
   "cell_type": "markdown",
   "metadata": {},
   "source": [
    "### Build Custom Docker Image"
   ]
  },
  {
   "cell_type": "code",
   "execution_count": 5,
   "metadata": {},
   "outputs": [],
   "source": [
    "# image = f\"docker-registry.{os.getenv('IGZ_NAMESPACE_DOMAIN')}:80/custom-image\"\n",
    "image = \"mlrun/mlrun\""
   ]
  },
  {
   "cell_type": "code",
   "execution_count": 6,
   "metadata": {},
   "outputs": [],
   "source": [
    "# # Build Docker Image (only needs to be run once)\n",
    "# build_image = new_function(name=\"build-image\", kind=\"job\")\n",
    "# build_image.build_config(\n",
    "#     image=image, base_image=\"mlrun/mlrun\", commands=[\"pip install boto3\"]\n",
    "# )\n",
    "# build_image.deploy(with_mlrun=False)"
   ]
  },
  {
   "cell_type": "markdown",
   "metadata": {},
   "source": [
    "### Define Function Specs"
   ]
  },
  {
   "cell_type": "code",
   "execution_count": 7,
   "metadata": {},
   "outputs": [],
   "source": [
    "fn = code_to_function(name='nuclio-fn', project=\"nuclio-template\", kind='nuclio')\n",
    "fn.spec.min_replicas = 1\n",
    "fn.spec.max_replicas = 1\n",
    "fn.spec.base_spec['spec']['build']['baseImage'] = image"
   ]
  },
  {
   "cell_type": "markdown",
   "metadata": {},
   "source": [
    "### Deploy Function"
   ]
  },
  {
   "cell_type": "code",
   "execution_count": 8,
   "metadata": {},
   "outputs": [
    {
     "name": "stdout",
     "output_type": "stream",
     "text": [
      "> 2021-01-15 23:12:34,784 [info] Starting remote function deploy\n",
      "2021-01-15 23:12:35  (info) Deploying function\n",
      "2021-01-15 23:12:35  (info) Building\n",
      "2021-01-15 23:12:35  (info) Staging files and preparing base images\n",
      "2021-01-15 23:12:35  (info) Building processor image\n",
      "2021-01-15 23:12:41  (info) Build complete\n",
      "2021-01-15 23:12:45  (info) Function deploy complete\n",
      "> 2021-01-15 23:12:46,419 [info] function deployed, address=3.17.244.7:30303\n"
     ]
    }
   ],
   "source": [
    "addr = fn.deploy()"
   ]
  },
  {
   "cell_type": "markdown",
   "metadata": {},
   "source": [
    "### Query Function"
   ]
  },
  {
   "cell_type": "code",
   "execution_count": 9,
   "metadata": {},
   "outputs": [],
   "source": [
    "payload = {'data': [\"image1\", \"image2\", \"image3\"]}\n",
    "\n",
    "response = requests.post(addr, json=json.dumps(payload))\n",
    "predictions = response.json()"
   ]
  },
  {
   "cell_type": "code",
   "execution_count": 10,
   "metadata": {},
   "outputs": [
    {
     "data": {
      "text/plain": [
       "{'model': 'ML Model',\n",
       " 'pred': {'image1': 'cat', 'image2': 'dog', 'image3': 'cat'}}"
      ]
     },
     "execution_count": 10,
     "metadata": {},
     "output_type": "execute_result"
    }
   ],
   "source": [
    "predictions"
   ]
  }
 ],
 "metadata": {
  "kernelspec": {
   "display_name": "Python [conda env:root] *",
   "language": "python",
   "name": "conda-root-py"
  },
  "language_info": {
   "codemirror_mode": {
    "name": "ipython",
    "version": 3
   },
   "file_extension": ".py",
   "mimetype": "text/x-python",
   "name": "python",
   "nbconvert_exporter": "python",
   "pygments_lexer": "ipython3",
   "version": "3.7.6"
  }
 },
 "nbformat": 4,
 "nbformat_minor": 4
}
